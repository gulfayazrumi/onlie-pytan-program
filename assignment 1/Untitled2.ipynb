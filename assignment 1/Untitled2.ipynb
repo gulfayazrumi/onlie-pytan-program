{
 "cells": [
  {
   "cell_type": "code",
   "execution_count": 1,
   "id": "543890ef",
   "metadata": {},
   "outputs": [
    {
     "name": "stdout",
     "output_type": "stream",
     "text": [
      "Twinkle, twinkle, little star,\n",
      "      How I wonder what you arel\n",
      "      Up above the world so high,\n",
      "Like a diamond in the sky.\n",
      "Twinkle, twinkle, little star,\n",
      "    How I wonder what you are\n"
     ]
    }
   ],
   "source": [
    "print(\"Twinkle, twinkle, little star,\\n      How I wonder what you arel\\n      Up above the world so high,\\nLike a diamond in the sky.\\nTwinkle, twinkle, little star,\\n    How I wonder what you are\")"
   ]
  },
  {
   "cell_type": "code",
   "execution_count": 9,
   "id": "c3d1b0d2",
   "metadata": {},
   "outputs": [
    {
     "name": "stdout",
     "output_type": "stream",
     "text": [
      "3.9.7 (default, Sep 16 2021, 16:59:28) [MSC v.1916 64 bit (AMD64)]\n"
     ]
    }
   ],
   "source": [
    "print (sys.version)\n",
    "\n",
    "\n",
    "\n"
   ]
  },
  {
   "cell_type": "code",
   "execution_count": 14,
   "id": "da075014",
   "metadata": {},
   "outputs": [
    {
     "name": "stdout",
     "output_type": "stream",
     "text": [
      "date and time : \n",
      "2021-12-30 21:15:13\n"
     ]
    }
   ],
   "source": [
    "print (\"date and time : \")\n",
    "print (now.strftime(\"%Y-%m-%d %H:%M:%S\"))"
   ]
  },
  {
   "cell_type": "code",
   "execution_count": 15,
   "id": "50fd5a33",
   "metadata": {},
   "outputs": [
    {
     "name": "stdout",
     "output_type": "stream",
     "text": [
      "Enter radius of circle : 1\n",
      "Area of the circle is: 3.14\n"
     ]
    }
   ],
   "source": [
    "r = float(input (\"Enter radius of circle : \"))\n",
    "\n",
    "print (\"Area of the circle is: \" + str(3.14 * r**2))"
   ]
  },
  {
   "cell_type": "code",
   "execution_count": 16,
   "id": "5f0d290e",
   "metadata": {},
   "outputs": [
    {
     "name": "stdout",
     "output_type": "stream",
     "text": [
      "enter your last namerumi\n",
      "enter your first namefayaz\n",
      "fayaz rumi\n"
     ]
    }
   ],
   "source": [
    "last_name=input(\"enter your last name\");\n",
    "first_name=input(\"enter your first name\");\n",
    "print(first_name+\" \"+last_name);"
   ]
  },
  {
   "cell_type": "code",
   "execution_count": null,
   "id": "a8aa4760",
   "metadata": {},
   "outputs": [],
   "source": []
  },
  {
   "cell_type": "code",
   "execution_count": null,
   "id": "49170de9",
   "metadata": {},
   "outputs": [],
   "source": []
  },
  {
   "cell_type": "code",
   "execution_count": null,
   "id": "72ac5aa0",
   "metadata": {},
   "outputs": [],
   "source": []
  },
  {
   "cell_type": "code",
   "execution_count": 22,
   "id": "4467a6ee",
   "metadata": {},
   "outputs": [
    {
     "name": "stdout",
     "output_type": "stream",
     "text": [
      "enter first number5\n",
      "enter second number5\n",
      "addition of nums are= 10\n"
     ]
    }
   ],
   "source": [
    "a=int(input(\"enter first number\"));\n",
    "b=int(input(\"enter second number\"));\n",
    "c=a+b;\n",
    "print(\"addition of nums are=\", c);"
   ]
  },
  {
   "cell_type": "code",
   "execution_count": null,
   "id": "68c4ec89",
   "metadata": {},
   "outputs": [],
   "source": []
  }
 ],
 "metadata": {
  "kernelspec": {
   "display_name": "Python 3 (ipykernel)",
   "language": "python",
   "name": "python3"
  },
  "language_info": {
   "codemirror_mode": {
    "name": "ipython",
    "version": 3
   },
   "file_extension": ".py",
   "mimetype": "text/x-python",
   "name": "python",
   "nbconvert_exporter": "python",
   "pygments_lexer": "ipython3",
   "version": "3.9.7"
  }
 },
 "nbformat": 4,
 "nbformat_minor": 5
}
